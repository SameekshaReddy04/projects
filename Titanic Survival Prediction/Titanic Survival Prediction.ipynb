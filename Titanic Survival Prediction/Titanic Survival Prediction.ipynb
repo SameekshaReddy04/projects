{
 "cells": [
  {
   "cell_type": "code",
   "execution_count": 35,
   "id": "0c538a4e-ed50-4354-bb92-d6160e272f24",
   "metadata": {},
   "outputs": [],
   "source": [
    "import numpy as np\n",
    "import pandas as pd\n",
    "import matplotlib.pyplot as plt\n",
    "import seaborn as sns\n",
    "from sklearn.model_selection import train_test_split\n",
    "from sklearn.linear_model import LogisticRegression\n",
    "from sklearn.metrics import accuracy_score"
   ]
  },
  {
   "cell_type": "code",
   "execution_count": 36,
   "id": "2d408081-7693-4995-ad31-9302f72b99b7",
   "metadata": {},
   "outputs": [],
   "source": [
    "titanic_data=pd.read_csv('train.csv')"
   ]
  },
  {
   "cell_type": "code",
   "execution_count": 37,
   "id": "d1b21445-edd6-4b45-8643-1506630f5092",
   "metadata": {},
   "outputs": [
    {
     "data": {
      "text/html": [
       "<div>\n",
       "<style scoped>\n",
       "    .dataframe tbody tr th:only-of-type {\n",
       "        vertical-align: middle;\n",
       "    }\n",
       "\n",
       "    .dataframe tbody tr th {\n",
       "        vertical-align: top;\n",
       "    }\n",
       "\n",
       "    .dataframe thead th {\n",
       "        text-align: right;\n",
       "    }\n",
       "</style>\n",
       "<table border=\"1\" class=\"dataframe\">\n",
       "  <thead>\n",
       "    <tr style=\"text-align: right;\">\n",
       "      <th></th>\n",
       "      <th>PassengerId</th>\n",
       "      <th>Survived</th>\n",
       "      <th>Pclass</th>\n",
       "      <th>Name</th>\n",
       "      <th>Sex</th>\n",
       "      <th>Age</th>\n",
       "      <th>SibSp</th>\n",
       "      <th>Parch</th>\n",
       "      <th>Ticket</th>\n",
       "      <th>Fare</th>\n",
       "      <th>Cabin</th>\n",
       "      <th>Embarked</th>\n",
       "    </tr>\n",
       "  </thead>\n",
       "  <tbody>\n",
       "    <tr>\n",
       "      <th>0</th>\n",
       "      <td>1</td>\n",
       "      <td>0</td>\n",
       "      <td>3</td>\n",
       "      <td>Braund, Mr. Owen Harris</td>\n",
       "      <td>male</td>\n",
       "      <td>22.0</td>\n",
       "      <td>1</td>\n",
       "      <td>0</td>\n",
       "      <td>A/5 21171</td>\n",
       "      <td>7.2500</td>\n",
       "      <td>NaN</td>\n",
       "      <td>S</td>\n",
       "    </tr>\n",
       "    <tr>\n",
       "      <th>1</th>\n",
       "      <td>2</td>\n",
       "      <td>1</td>\n",
       "      <td>1</td>\n",
       "      <td>Cumings, Mrs. John Bradley (Florence Briggs Th...</td>\n",
       "      <td>female</td>\n",
       "      <td>38.0</td>\n",
       "      <td>1</td>\n",
       "      <td>0</td>\n",
       "      <td>PC 17599</td>\n",
       "      <td>71.2833</td>\n",
       "      <td>C85</td>\n",
       "      <td>C</td>\n",
       "    </tr>\n",
       "    <tr>\n",
       "      <th>2</th>\n",
       "      <td>3</td>\n",
       "      <td>1</td>\n",
       "      <td>3</td>\n",
       "      <td>Heikkinen, Miss. Laina</td>\n",
       "      <td>female</td>\n",
       "      <td>26.0</td>\n",
       "      <td>0</td>\n",
       "      <td>0</td>\n",
       "      <td>STON/O2. 3101282</td>\n",
       "      <td>7.9250</td>\n",
       "      <td>NaN</td>\n",
       "      <td>S</td>\n",
       "    </tr>\n",
       "    <tr>\n",
       "      <th>3</th>\n",
       "      <td>4</td>\n",
       "      <td>1</td>\n",
       "      <td>1</td>\n",
       "      <td>Futrelle, Mrs. Jacques Heath (Lily May Peel)</td>\n",
       "      <td>female</td>\n",
       "      <td>35.0</td>\n",
       "      <td>1</td>\n",
       "      <td>0</td>\n",
       "      <td>113803</td>\n",
       "      <td>53.1000</td>\n",
       "      <td>C123</td>\n",
       "      <td>S</td>\n",
       "    </tr>\n",
       "    <tr>\n",
       "      <th>4</th>\n",
       "      <td>5</td>\n",
       "      <td>0</td>\n",
       "      <td>3</td>\n",
       "      <td>Allen, Mr. William Henry</td>\n",
       "      <td>male</td>\n",
       "      <td>35.0</td>\n",
       "      <td>0</td>\n",
       "      <td>0</td>\n",
       "      <td>373450</td>\n",
       "      <td>8.0500</td>\n",
       "      <td>NaN</td>\n",
       "      <td>S</td>\n",
       "    </tr>\n",
       "  </tbody>\n",
       "</table>\n",
       "</div>"
      ],
      "text/plain": [
       "   PassengerId  Survived  Pclass  \\\n",
       "0            1         0       3   \n",
       "1            2         1       1   \n",
       "2            3         1       3   \n",
       "3            4         1       1   \n",
       "4            5         0       3   \n",
       "\n",
       "                                                Name     Sex   Age  SibSp  \\\n",
       "0                            Braund, Mr. Owen Harris    male  22.0      1   \n",
       "1  Cumings, Mrs. John Bradley (Florence Briggs Th...  female  38.0      1   \n",
       "2                             Heikkinen, Miss. Laina  female  26.0      0   \n",
       "3       Futrelle, Mrs. Jacques Heath (Lily May Peel)  female  35.0      1   \n",
       "4                           Allen, Mr. William Henry    male  35.0      0   \n",
       "\n",
       "   Parch            Ticket     Fare Cabin Embarked  \n",
       "0      0         A/5 21171   7.2500   NaN        S  \n",
       "1      0          PC 17599  71.2833   C85        C  \n",
       "2      0  STON/O2. 3101282   7.9250   NaN        S  \n",
       "3      0            113803  53.1000  C123        S  \n",
       "4      0            373450   8.0500   NaN        S  "
      ]
     },
     "execution_count": 37,
     "metadata": {},
     "output_type": "execute_result"
    }
   ],
   "source": [
    "titanic_data.head()"
   ]
  },
  {
   "cell_type": "code",
   "execution_count": 38,
   "id": "8c9f8d9d-9ffb-4dfa-8b49-687df867d4b0",
   "metadata": {},
   "outputs": [
    {
     "name": "stdout",
     "output_type": "stream",
     "text": [
      "<class 'pandas.core.frame.DataFrame'>\n",
      "RangeIndex: 891 entries, 0 to 890\n",
      "Data columns (total 12 columns):\n",
      " #   Column       Non-Null Count  Dtype  \n",
      "---  ------       --------------  -----  \n",
      " 0   PassengerId  891 non-null    int64  \n",
      " 1   Survived     891 non-null    int64  \n",
      " 2   Pclass       891 non-null    int64  \n",
      " 3   Name         891 non-null    object \n",
      " 4   Sex          891 non-null    object \n",
      " 5   Age          714 non-null    float64\n",
      " 6   SibSp        891 non-null    int64  \n",
      " 7   Parch        891 non-null    int64  \n",
      " 8   Ticket       891 non-null    object \n",
      " 9   Fare         891 non-null    float64\n",
      " 10  Cabin        204 non-null    object \n",
      " 11  Embarked     889 non-null    object \n",
      "dtypes: float64(2), int64(5), object(5)\n",
      "memory usage: 83.7+ KB\n"
     ]
    }
   ],
   "source": [
    "titanic_data.info()"
   ]
  },
  {
   "cell_type": "code",
   "execution_count": 39,
   "id": "afdf4496-4040-4454-971f-b2a46f04dc56",
   "metadata": {},
   "outputs": [
    {
     "data": {
      "text/plain": [
       "PassengerId      0\n",
       "Survived         0\n",
       "Pclass           0\n",
       "Name             0\n",
       "Sex              0\n",
       "Age            177\n",
       "SibSp            0\n",
       "Parch            0\n",
       "Ticket           0\n",
       "Fare             0\n",
       "Cabin          687\n",
       "Embarked         2\n",
       "dtype: int64"
      ]
     },
     "execution_count": 39,
     "metadata": {},
     "output_type": "execute_result"
    }
   ],
   "source": [
    "titanic_data.isnull().sum()"
   ]
  },
  {
   "cell_type": "code",
   "execution_count": 40,
   "id": "de597706-825a-432a-afcf-177842a31cc7",
   "metadata": {},
   "outputs": [],
   "source": [
    "titanic_data=titanic_data.drop(columns='Cabin',axis=1)"
   ]
  },
  {
   "cell_type": "code",
   "execution_count": 41,
   "id": "4800e4a9-5d23-465f-ac44-66cd99a3f95d",
   "metadata": {},
   "outputs": [],
   "source": [
    "titanic_data['Age'].fillna(titanic_data['Age'].mean(), inplace=True)"
   ]
  },
  {
   "cell_type": "code",
   "execution_count": 42,
   "id": "e23f956b-097f-4323-b206-0a0f8edcee64",
   "metadata": {},
   "outputs": [
    {
     "name": "stdout",
     "output_type": "stream",
     "text": [
      "<class 'pandas.core.frame.DataFrame'>\n",
      "RangeIndex: 891 entries, 0 to 890\n",
      "Data columns (total 11 columns):\n",
      " #   Column       Non-Null Count  Dtype  \n",
      "---  ------       --------------  -----  \n",
      " 0   PassengerId  891 non-null    int64  \n",
      " 1   Survived     891 non-null    int64  \n",
      " 2   Pclass       891 non-null    int64  \n",
      " 3   Name         891 non-null    object \n",
      " 4   Sex          891 non-null    object \n",
      " 5   Age          891 non-null    float64\n",
      " 6   SibSp        891 non-null    int64  \n",
      " 7   Parch        891 non-null    int64  \n",
      " 8   Ticket       891 non-null    object \n",
      " 9   Fare         891 non-null    float64\n",
      " 10  Embarked     889 non-null    object \n",
      "dtypes: float64(2), int64(5), object(4)\n",
      "memory usage: 76.7+ KB\n"
     ]
    }
   ],
   "source": [
    "titanic_data.info()"
   ]
  },
  {
   "cell_type": "code",
   "execution_count": 43,
   "id": "16d4da30-c503-48a7-9d8e-77d2306ca3d1",
   "metadata": {},
   "outputs": [
    {
     "data": {
      "text/plain": [
       "PassengerId    0\n",
       "Survived       0\n",
       "Pclass         0\n",
       "Name           0\n",
       "Sex            0\n",
       "Age            0\n",
       "SibSp          0\n",
       "Parch          0\n",
       "Ticket         0\n",
       "Fare           0\n",
       "Embarked       2\n",
       "dtype: int64"
      ]
     },
     "execution_count": 43,
     "metadata": {},
     "output_type": "execute_result"
    }
   ],
   "source": [
    "titanic_data.isnull().sum()"
   ]
  },
  {
   "cell_type": "code",
   "execution_count": 44,
   "id": "129367b8-9cdb-4173-b671-68838cb293c8",
   "metadata": {},
   "outputs": [
    {
     "name": "stdout",
     "output_type": "stream",
     "text": [
      "0    S\n",
      "Name: Embarked, dtype: object\n"
     ]
    }
   ],
   "source": [
    "print(titanic_data['Embarked'].mode())"
   ]
  },
  {
   "cell_type": "code",
   "execution_count": 45,
   "id": "7fc379a1-2d14-4fdd-bb2e-3c71299e5e8f",
   "metadata": {},
   "outputs": [
    {
     "name": "stdout",
     "output_type": "stream",
     "text": [
      "S\n"
     ]
    }
   ],
   "source": [
    "print(titanic_data['Embarked'].mode()[0])"
   ]
  },
  {
   "cell_type": "code",
   "execution_count": 46,
   "id": "20617492-f448-403f-9a48-e6e00879c2a4",
   "metadata": {},
   "outputs": [],
   "source": [
    "titanic_data['Embarked'].fillna(titanic_data['Embarked'].mode()[0],inplace=True)"
   ]
  },
  {
   "cell_type": "code",
   "execution_count": 47,
   "id": "8d6eef4a-1f6a-444d-832a-1316154566a9",
   "metadata": {},
   "outputs": [
    {
     "data": {
      "text/plain": [
       "PassengerId    0\n",
       "Survived       0\n",
       "Pclass         0\n",
       "Name           0\n",
       "Sex            0\n",
       "Age            0\n",
       "SibSp          0\n",
       "Parch          0\n",
       "Ticket         0\n",
       "Fare           0\n",
       "Embarked       0\n",
       "dtype: int64"
      ]
     },
     "execution_count": 47,
     "metadata": {},
     "output_type": "execute_result"
    }
   ],
   "source": [
    "titanic_data.isnull().sum()"
   ]
  },
  {
   "cell_type": "code",
   "execution_count": 48,
   "id": "c1ad1668-3e16-4497-b2f2-96f1c9fe0c50",
   "metadata": {},
   "outputs": [
    {
     "data": {
      "text/html": [
       "<div>\n",
       "<style scoped>\n",
       "    .dataframe tbody tr th:only-of-type {\n",
       "        vertical-align: middle;\n",
       "    }\n",
       "\n",
       "    .dataframe tbody tr th {\n",
       "        vertical-align: top;\n",
       "    }\n",
       "\n",
       "    .dataframe thead th {\n",
       "        text-align: right;\n",
       "    }\n",
       "</style>\n",
       "<table border=\"1\" class=\"dataframe\">\n",
       "  <thead>\n",
       "    <tr style=\"text-align: right;\">\n",
       "      <th></th>\n",
       "      <th>PassengerId</th>\n",
       "      <th>Survived</th>\n",
       "      <th>Pclass</th>\n",
       "      <th>Age</th>\n",
       "      <th>SibSp</th>\n",
       "      <th>Parch</th>\n",
       "      <th>Fare</th>\n",
       "    </tr>\n",
       "  </thead>\n",
       "  <tbody>\n",
       "    <tr>\n",
       "      <th>count</th>\n",
       "      <td>891.000000</td>\n",
       "      <td>891.000000</td>\n",
       "      <td>891.000000</td>\n",
       "      <td>891.000000</td>\n",
       "      <td>891.000000</td>\n",
       "      <td>891.000000</td>\n",
       "      <td>891.000000</td>\n",
       "    </tr>\n",
       "    <tr>\n",
       "      <th>mean</th>\n",
       "      <td>446.000000</td>\n",
       "      <td>0.383838</td>\n",
       "      <td>2.308642</td>\n",
       "      <td>29.699118</td>\n",
       "      <td>0.523008</td>\n",
       "      <td>0.381594</td>\n",
       "      <td>32.204208</td>\n",
       "    </tr>\n",
       "    <tr>\n",
       "      <th>std</th>\n",
       "      <td>257.353842</td>\n",
       "      <td>0.486592</td>\n",
       "      <td>0.836071</td>\n",
       "      <td>13.002015</td>\n",
       "      <td>1.102743</td>\n",
       "      <td>0.806057</td>\n",
       "      <td>49.693429</td>\n",
       "    </tr>\n",
       "    <tr>\n",
       "      <th>min</th>\n",
       "      <td>1.000000</td>\n",
       "      <td>0.000000</td>\n",
       "      <td>1.000000</td>\n",
       "      <td>0.420000</td>\n",
       "      <td>0.000000</td>\n",
       "      <td>0.000000</td>\n",
       "      <td>0.000000</td>\n",
       "    </tr>\n",
       "    <tr>\n",
       "      <th>25%</th>\n",
       "      <td>223.500000</td>\n",
       "      <td>0.000000</td>\n",
       "      <td>2.000000</td>\n",
       "      <td>22.000000</td>\n",
       "      <td>0.000000</td>\n",
       "      <td>0.000000</td>\n",
       "      <td>7.910400</td>\n",
       "    </tr>\n",
       "    <tr>\n",
       "      <th>50%</th>\n",
       "      <td>446.000000</td>\n",
       "      <td>0.000000</td>\n",
       "      <td>3.000000</td>\n",
       "      <td>29.699118</td>\n",
       "      <td>0.000000</td>\n",
       "      <td>0.000000</td>\n",
       "      <td>14.454200</td>\n",
       "    </tr>\n",
       "    <tr>\n",
       "      <th>75%</th>\n",
       "      <td>668.500000</td>\n",
       "      <td>1.000000</td>\n",
       "      <td>3.000000</td>\n",
       "      <td>35.000000</td>\n",
       "      <td>1.000000</td>\n",
       "      <td>0.000000</td>\n",
       "      <td>31.000000</td>\n",
       "    </tr>\n",
       "    <tr>\n",
       "      <th>max</th>\n",
       "      <td>891.000000</td>\n",
       "      <td>1.000000</td>\n",
       "      <td>3.000000</td>\n",
       "      <td>80.000000</td>\n",
       "      <td>8.000000</td>\n",
       "      <td>6.000000</td>\n",
       "      <td>512.329200</td>\n",
       "    </tr>\n",
       "  </tbody>\n",
       "</table>\n",
       "</div>"
      ],
      "text/plain": [
       "       PassengerId    Survived      Pclass         Age       SibSp  \\\n",
       "count   891.000000  891.000000  891.000000  891.000000  891.000000   \n",
       "mean    446.000000    0.383838    2.308642   29.699118    0.523008   \n",
       "std     257.353842    0.486592    0.836071   13.002015    1.102743   \n",
       "min       1.000000    0.000000    1.000000    0.420000    0.000000   \n",
       "25%     223.500000    0.000000    2.000000   22.000000    0.000000   \n",
       "50%     446.000000    0.000000    3.000000   29.699118    0.000000   \n",
       "75%     668.500000    1.000000    3.000000   35.000000    1.000000   \n",
       "max     891.000000    1.000000    3.000000   80.000000    8.000000   \n",
       "\n",
       "            Parch        Fare  \n",
       "count  891.000000  891.000000  \n",
       "mean     0.381594   32.204208  \n",
       "std      0.806057   49.693429  \n",
       "min      0.000000    0.000000  \n",
       "25%      0.000000    7.910400  \n",
       "50%      0.000000   14.454200  \n",
       "75%      0.000000   31.000000  \n",
       "max      6.000000  512.329200  "
      ]
     },
     "execution_count": 48,
     "metadata": {},
     "output_type": "execute_result"
    }
   ],
   "source": [
    "titanic_data.describe()"
   ]
  },
  {
   "cell_type": "code",
   "execution_count": 49,
   "id": "c5a85a0d-012a-4bfb-bb15-0cce4d13dcb0",
   "metadata": {},
   "outputs": [
    {
     "data": {
      "text/plain": [
       "Survived\n",
       "0    549\n",
       "1    342\n",
       "Name: count, dtype: int64"
      ]
     },
     "execution_count": 49,
     "metadata": {},
     "output_type": "execute_result"
    }
   ],
   "source": [
    "titanic_data['Survived'].value_counts()"
   ]
  },
  {
   "cell_type": "code",
   "execution_count": 51,
   "id": "d4e571b3-7798-4b88-997b-0231ffa24a85",
   "metadata": {},
   "outputs": [
    {
     "data": {
      "text/plain": [
       "<Axes: ylabel='count'>"
      ]
     },
     "execution_count": 51,
     "metadata": {},
     "output_type": "execute_result"
    },
    {
     "data": {
      "image/png": "[encoded data removed]",
      "text/plain": [
       "<Figure size 640x480 with 1 Axes>"
      ]
     },
     "metadata": {},
     "output_type": "display_data"
    }
   ],
   "source": [
    "sns.countplot(titanic_data['Survived'])"
   ]
  },
  {
   "cell_type": "code",
   "execution_count": 52,
   "id": "e4fb5862-ae30-4c6c-aab8-e58306a1a4c0",
   "metadata": {},
   "outputs": [
    {
     "data": {
      "text/plain": [
       "Sex\n",
       "male      577\n",
       "female    314\n",
       "Name: count, dtype: int64"
      ]
     },
     "execution_count": 52,
     "metadata": {},
     "output_type": "execute_result"
    }
   ],
   "source": [
    "titanic_data['Sex'].value_counts()"
   ]
  },
  {
   "cell_type": "code",
   "execution_count": 53,
   "id": "ab95e85a-e85a-4b5c-950f-8004d920bdb2",
   "metadata": {},
   "outputs": [
    {
     "data": {
      "text/plain": [
       "<Axes: xlabel='Sex', ylabel='count'>"
      ]
     },
     "execution_count": 53,
     "metadata": {},
     "output_type": "execute_result"
    },
    {
     "data": {
      "image/png": "[encoded data removed]",
      "text/plain": [
       "<Figure size 640x480 with 1 Axes>"
      ]
     },
     "metadata": {},
     "output_type": "display_data"
    }
   ],
   "source": [
    "sns.countplot(x='Sex', data=titanic_data)"
   ]
  },
  {
   "cell_type": "code",
   "execution_count": 54,
   "id": "fb809327-dbad-4cc7-b733-5c47b017ba0b",
   "metadata": {},
   "outputs": [
    {
     "data": {
      "text/plain": [
       "<Axes: xlabel='Sex', ylabel='count'>"
      ]
     },
     "execution_count": 54,
     "metadata": {},
     "output_type": "execute_result"
    },
    {
     "data": {
      "image/png": "[encoded data removed]",
      "text/plain": [
       "<Figure size 640x480 with 1 Axes>"
      ]
     },
     "metadata": {},
     "output_type": "display_data"
    }
   ],
   "source": [
    "titanic_data['Survived'] = titanic_data['Survived'].map({0: 'Not Survived', 1: 'Survived'})\n",
    "sns.countplot(x='Sex', hue='Survived', data=titanic_data)"
   ]
  },
  {
   "cell_type": "code",
   "execution_count": 55,
   "id": "1df89475-9db7-4b8f-b5a5-4ee3b1b053e9",
   "metadata": {},
   "outputs": [
    {
     "data": {
      "text/plain": [
       "<Axes: xlabel='Pclass', ylabel='count'>"
      ]
     },
     "execution_count": 55,
     "metadata": {},
     "output_type": "execute_result"
    },
    {
     "data": {
      "image/png": "[encoded data removed]",
      "text/plain": [
       "<Figure size 640x480 with 1 Axes>"
      ]
     },
     "metadata": {},
     "output_type": "display_data"
    }
   ],
   "source": [
    "sns.countplot(x='Pclass', data=titanic_data)"
   ]
  },
  {
   "cell_type": "code",
   "execution_count": 56,
   "id": "7b12aa1e-6c27-45cb-b3e9-b6d9104ec7e2",
   "metadata": {},
   "outputs": [
    {
     "data": {
      "text/plain": [
       "<Axes: xlabel='Pclass', ylabel='count'>"
      ]
     },
     "execution_count": 56,
     "metadata": {},
     "output_type": "execute_result"
    },
    {
     "data": {
      "image/png": "[encoded data removed]",
      "text/plain": [
       "<Figure size 640x480 with 1 Axes>"
      ]
     },
     "metadata": {},
     "output_type": "display_data"
    }
   ],
   "source": [
    "sns.countplot(x='Pclass',hue='Survived',data=titanic_data)"
   ]
  },
  {
   "cell_type": "code",
   "execution_count": 57,
   "id": "29eb4e0d-d0be-4193-83b1-1422dde1e827",
   "metadata": {},
   "outputs": [
    {
     "data": {
      "text/plain": [
       "Sex\n",
       "male      577\n",
       "female    314\n",
       "Name: count, dtype: int64"
      ]
     },
     "execution_count": 57,
     "metadata": {},
     "output_type": "execute_result"
    }
   ],
   "source": [
    "titanic_data['Sex'].value_counts()"
   ]
  },
  {
   "cell_type": "code",
   "execution_count": 58,
   "id": "06c9a4b3-6e9f-4e64-9841-367f6715476f",
   "metadata": {},
   "outputs": [
    {
     "data": {
      "text/plain": [
       "Embarked\n",
       "S    646\n",
       "C    168\n",
       "Q     77\n",
       "Name: count, dtype: int64"
      ]
     },
     "execution_count": 58,
     "metadata": {},
     "output_type": "execute_result"
    }
   ],
   "source": [
    "titanic_data['Embarked'].value_counts()"
   ]
  },
  {
   "cell_type": "code",
   "execution_count": 59,
   "id": "f8a82647-a32b-4a22-94c8-fa2a76d7e9b5",
   "metadata": {},
   "outputs": [
    {
     "name": "stdout",
     "output_type": "stream",
     "text": [
      "     Pclass     Sex        Age  SibSp  Parch     Fare Embarked\n",
      "0         3    male  22.000000      1      0   7.2500        S\n",
      "1         1  female  38.000000      1      0  71.2833        C\n",
      "2         3  female  26.000000      0      0   7.9250        S\n",
      "3         1  female  35.000000      1      0  53.1000        S\n",
      "4         3    male  35.000000      0      0   8.0500        S\n",
      "..      ...     ...        ...    ...    ...      ...      ...\n",
      "886       2    male  27.000000      0      0  13.0000        S\n",
      "887       1  female  19.000000      0      0  30.0000        S\n",
      "888       3  female  29.699118      1      2  23.4500        S\n",
      "889       1    male  26.000000      0      0  30.0000        C\n",
      "890       3    male  32.000000      0      0   7.7500        Q\n",
      "\n",
      "[891 rows x 7 columns]\n"
     ]
    }
   ],
   "source": [
    "X = titanic_data.drop(columns=['PassengerId', 'Name', 'Ticket', 'Survived'])\n",
    "Y = titanic_data['Survived']\n",
    "print(X)"
   ]
  },
  {
   "cell_type": "code",
   "execution_count": 60,
   "id": "767605eb-2145-4774-8abb-e3141cfc1c8a",
   "metadata": {},
   "outputs": [
    {
     "name": "stdout",
     "output_type": "stream",
     "text": [
      "0      Not Survived\n",
      "1          Survived\n",
      "2          Survived\n",
      "3          Survived\n",
      "4      Not Survived\n",
      "           ...     \n",
      "886    Not Survived\n",
      "887        Survived\n",
      "888    Not Survived\n",
      "889        Survived\n",
      "890    Not Survived\n",
      "Name: Survived, Length: 891, dtype: object\n"
     ]
    }
   ],
   "source": [
    "print(Y)"
   ]
  },
  {
   "cell_type": "code",
   "execution_count": 61,
   "id": "856abd4a-500e-4ede-b68b-592c89cd21d9",
   "metadata": {},
   "outputs": [
    {
     "name": "stdout",
     "output_type": "stream",
     "text": [
      "(891, 7) (712, 7) (179, 7)\n"
     ]
    }
   ],
   "source": [
    "X_train, X_test, Y_train, Y_test = train_test_split(X,Y, test_size=0.2,random_state=2)\n",
    "print(X.shape,X_train.shape,X_test.shape)"
   ]
  },
  {
   "cell_type": "code",
   "execution_count": 87,
   "id": "e2fdba06-f352-4b1d-9acc-ea769b58e31d",
   "metadata": {},
   "outputs": [
    {
     "name": "stdout",
     "output_type": "stream",
     "text": [
      "Index(['Pclass', 'Sex', 'Age', 'SibSp', 'Parch', 'Fare', 'Embarked_C',\n",
      "       'Embarked_Q', 'Embarked_S'],\n",
      "      dtype='object')\n",
      "     Pclass     Sex   Age  SibSp  Parch     Fare  Embarked_C  Embarked_Q  \\\n",
      "30        1    male  40.0      0      0  27.7208        True       False   \n",
      "10        3  female   4.0      1      1  16.7000       False       False   \n",
      "873       3    male  47.0      0      0   9.0000       False       False   \n",
      "182       3    male   9.0      4      2  31.3875       False       False   \n",
      "876       3    male  20.0      0      0   9.8458       False       False   \n",
      "\n",
      "     Embarked_S  \n",
      "30        False  \n",
      "10         True  \n",
      "873        True  \n",
      "182        True  \n",
      "876        True  \n"
     ]
    }
   ],
   "source": [
    "print(X_train.columns)\n",
    "print(X_train.head())"
   ]
  },
  {
   "cell_type": "code",
   "execution_count": 88,
   "id": "cf2084ee-8394-4be1-b18a-bbec8ec681cf",
   "metadata": {},
   "outputs": [
    {
     "data": {
      "text/html": [
       "<style>#sk-container-id-1 {color: black;background-color: white;}#sk-container-id-1 pre{padding: 0;}#sk-container-id-1 div.sk-toggleable {background-color: white;}#sk-container-id-1 label.sk-toggleable__label {cursor: pointer;display: block;width: 100%;margin-bottom: 0;padding: 0.3em;box-sizing: border-box;text-align: center;}#sk-container-id-1 label.sk-toggleable__label-arrow:before {content: \"▸\";float: left;margin-right: 0.25em;color: #696969;}#sk-container-id-1 label.sk-toggleable__label-arrow:hover:before {color: black;}#sk-container-id-1 div.sk-estimator:hover label.sk-toggleable__label-arrow:before {color: black;}#sk-container-id-1 div.sk-toggleable__content {max-height: 0;max-width: 0;overflow: hidden;text-align: left;background-color: #f0f8ff;}#sk-container-id-1 div.sk-toggleable__content pre {margin: 0.2em;color: black;border-radius: 0.25em;background-color: #f0f8ff;}#sk-container-id-1 input.sk-toggleable__control:checked~div.sk-toggleable__content {max-height: 200px;max-width: 100%;overflow: auto;}#sk-container-id-1 input.sk-toggleable__control:checked~label.sk-toggleable__label-arrow:before {content: \"▾\";}#sk-container-id-1 div.sk-estimator input.sk-toggleable__control:checked~label.sk-toggleable__label {background-color: #d4ebff;}#sk-container-id-1 div.sk-label input.sk-toggleable__control:checked~label.sk-toggleable__label {background-color: #d4ebff;}#sk-container-id-1 input.sk-hidden--visually {border: 0;clip: rect(1px 1px 1px 1px);clip: rect(1px, 1px, 1px, 1px);height: 1px;margin: -1px;overflow: hidden;padding: 0;position: absolute;width: 1px;}#sk-container-id-1 div.sk-estimator {font-family: monospace;background-color: #f0f8ff;border: 1px dotted black;border-radius: 0.25em;box-sizing: border-box;margin-bottom: 0.5em;}#sk-container-id-1 div.sk-estimator:hover {background-color: #d4ebff;}#sk-container-id-1 div.sk-parallel-item::after {content: \"\";width: 100%;border-bottom: 1px solid gray;flex-grow: 1;}#sk-container-id-1 div.sk-label:hover label.sk-toggleable__label {background-color: #d4ebff;}#sk-container-id-1 div.sk-serial::before {content: \"\";position: absolute;border-left: 1px solid gray;box-sizing: border-box;top: 0;bottom: 0;left: 50%;z-index: 0;}#sk-container-id-1 div.sk-serial {display: flex;flex-direction: column;align-items: center;background-color: white;padding-right: 0.2em;padding-left: 0.2em;position: relative;}#sk-container-id-1 div.sk-item {position: relative;z-index: 1;}#sk-container-id-1 div.sk-parallel {display: flex;align-items: stretch;justify-content: center;background-color: white;position: relative;}#sk-container-id-1 div.sk-item::before, #sk-container-id-1 div.sk-parallel-item::before {content: \"\";position: absolute;border-left: 1px solid gray;box-sizing: border-box;top: 0;bottom: 0;left: 50%;z-index: -1;}#sk-container-id-1 div.sk-parallel-item {display: flex;flex-direction: column;z-index: 1;position: relative;background-color: white;}#sk-container-id-1 div.sk-parallel-item:first-child::after {align-self: flex-end;width: 50%;}#sk-container-id-1 div.sk-parallel-item:last-child::after {align-self: flex-start;width: 50%;}#sk-container-id-1 div.sk-parallel-item:only-child::after {width: 0;}#sk-container-id-1 div.sk-dashed-wrapped {border: 1px dashed gray;margin: 0 0.4em 0.5em 0.4em;box-sizing: border-box;padding-bottom: 0.4em;background-color: white;}#sk-container-id-1 div.sk-label label {font-family: monospace;font-weight: bold;display: inline-block;line-height: 1.2em;}#sk-container-id-1 div.sk-label-container {text-align: center;}#sk-container-id-1 div.sk-container {/* jupyter's `normalize.less` sets `[hidden] { display: none; }` but bootstrap.min.css set `[hidden] { display: none !important; }` so we also need the `!important` here to be able to override the default hidden behavior on the sphinx rendered scikit-learn.org. See: https://github.com/scikit-learn/scikit-learn/issues/21755 */display: inline-block !important;position: relative;}#sk-container-id-1 div.sk-text-repr-fallback {display: none;}</style><div id=\"sk-container-id-1\" class=\"sk-top-container\"><div class=\"sk-text-repr-fallback\"><pre>LogisticRegression()</pre><b>In a Jupyter environment, please rerun this cell to show the HTML representation or trust the notebook. <br />On GitHub, the HTML representation is unable to render, please try loading this page with nbviewer.org.</b></div><div class=\"sk-container\" hidden><div class=\"sk-item\"><div class=\"sk-estimator sk-toggleable\"><input class=\"sk-toggleable__control sk-hidden--visually\" id=\"sk-estimator-id-1\" type=\"checkbox\" checked><label for=\"sk-estimator-id-1\" class=\"sk-toggleable__label sk-toggleable__label-arrow\">LogisticRegression</label><div class=\"sk-toggleable__content\"><pre>LogisticRegression()</pre></div></div></div></div></div>"
      ],
      "text/plain": [
       "LogisticRegression()"
      ]
     },
     "execution_count": 88,
     "metadata": {},
     "output_type": "execute_result"
    }
   ],
   "source": [
    "from sklearn.linear_model import LogisticRegression\n",
    "from sklearn.preprocessing import StandardScaler\n",
    "\n",
    "# Assuming X_train contains the features and Y_train contains the target variable\n",
    "# Drop the original 'Sex' column as it has already been one-hot encoded\n",
    "X_train.drop('Sex', axis=1, inplace=True)\n",
    "\n",
    "# Standardize the features for logistic regression\n",
    "scaler = StandardScaler()\n",
    "X_train_scaled = scaler.fit_transform(X_train)\n",
    "\n",
    "# Initialize and train the logistic regression model\n",
    "model = LogisticRegression()\n",
    "model.fit(X_train_scaled, Y_train)\n"
   ]
  },
  {
   "cell_type": "code",
   "execution_count": 99,
   "id": "1e69984a-f1b8-4bab-82a2-ac605c8a56b3",
   "metadata": {},
   "outputs": [
    {
     "name": "stdout",
     "output_type": "stream",
     "text": [
      "['Not Survived' 'Not Survived' 'Not Survived' 'Not Survived'\n",
      " 'Not Survived' 'Not Survived' 'Not Survived' 'Not Survived'\n",
      " 'Not Survived' 'Not Survived' 'Not Survived' 'Not Survived'\n",
      " 'Not Survived' 'Not Survived' 'Survived' 'Not Survived' 'Not Survived'\n",
      " 'Not Survived' 'Not Survived' 'Not Survived' 'Not Survived'\n",
      " 'Not Survived' 'Not Survived' 'Not Survived' 'Not Survived' 'Survived'\n",
      " 'Not Survived' 'Not Survived' 'Not Survived' 'Not Survived' 'Survived'\n",
      " 'Not Survived' 'Not Survived' 'Not Survived' 'Not Survived'\n",
      " 'Not Survived' 'Not Survived' 'Not Survived' 'Not Survived'\n",
      " 'Not Survived' 'Not Survived' 'Not Survived' 'Not Survived'\n",
      " 'Not Survived' 'Not Survived' 'Not Survived' 'Not Survived'\n",
      " 'Not Survived' 'Not Survived' 'Survived' 'Not Survived' 'Not Survived'\n",
      " 'Not Survived' 'Not Survived' 'Not Survived' 'Not Survived'\n",
      " 'Not Survived' 'Not Survived' 'Not Survived' 'Not Survived' 'Survived'\n",
      " 'Not Survived' 'Not Survived' 'Survived' 'Survived' 'Not Survived'\n",
      " 'Survived' 'Not Survived' 'Not Survived' 'Not Survived' 'Survived'\n",
      " 'Not Survived' 'Not Survived' 'Survived' 'Not Survived' 'Not Survived'\n",
      " 'Not Survived' 'Not Survived' 'Not Survived' 'Not Survived'\n",
      " 'Not Survived' 'Not Survived' 'Not Survived' 'Not Survived'\n",
      " 'Not Survived' 'Not Survived' 'Not Survived' 'Not Survived'\n",
      " 'Not Survived' 'Not Survived' 'Not Survived' 'Not Survived'\n",
      " 'Not Survived' 'Survived' 'Not Survived' 'Not Survived' 'Not Survived'\n",
      " 'Survived' 'Not Survived' 'Not Survived' 'Not Survived' 'Survived'\n",
      " 'Not Survived' 'Not Survived' 'Not Survived' 'Not Survived'\n",
      " 'Not Survived' 'Survived' 'Not Survived' 'Not Survived' 'Not Survived'\n",
      " 'Not Survived' 'Survived' 'Not Survived' 'Survived' 'Survived'\n",
      " 'Not Survived' 'Not Survived' 'Not Survived' 'Not Survived'\n",
      " 'Not Survived' 'Survived' 'Not Survived' 'Not Survived' 'Not Survived'\n",
      " 'Not Survived' 'Survived' 'Not Survived' 'Not Survived' 'Not Survived'\n",
      " 'Not Survived' 'Not Survived' 'Not Survived' 'Not Survived'\n",
      " 'Not Survived' 'Not Survived' 'Not Survived' 'Not Survived'\n",
      " 'Not Survived' 'Not Survived' 'Not Survived' 'Not Survived'\n",
      " 'Not Survived' 'Not Survived' 'Not Survived' 'Not Survived'\n",
      " 'Not Survived' 'Not Survived' 'Not Survived' 'Not Survived'\n",
      " 'Not Survived' 'Not Survived' 'Not Survived' 'Not Survived'\n",
      " 'Not Survived' 'Not Survived' 'Not Survived' 'Not Survived'\n",
      " 'Not Survived' 'Not Survived' 'Not Survived' 'Not Survived' 'Survived'\n",
      " 'Not Survived' 'Survived' 'Not Survived' 'Not Survived' 'Not Survived'\n",
      " 'Survived' 'Not Survived' 'Not Survived' 'Not Survived' 'Not Survived'\n",
      " 'Not Survived' 'Not Survived' 'Not Survived' 'Not Survived'\n",
      " 'Not Survived' 'Not Survived' 'Not Survived' 'Not Survived'\n",
      " 'Not Survived' 'Not Survived' 'Survived' 'Not Survived' 'Not Survived'\n",
      " 'Not Survived' 'Not Survived' 'Not Survived' 'Not Survived'\n",
      " 'Not Survived' 'Not Survived' 'Survived' 'Not Survived' 'Not Survived'\n",
      " 'Not Survived' 'Not Survived' 'Not Survived' 'Not Survived'\n",
      " 'Not Survived' 'Not Survived' 'Not Survived' 'Survived' 'Not Survived'\n",
      " 'Not Survived' 'Not Survived' 'Not Survived' 'Not Survived' 'Survived'\n",
      " 'Not Survived' 'Not Survived' 'Survived' 'Not Survived' 'Not Survived'\n",
      " 'Not Survived' 'Not Survived' 'Not Survived' 'Not Survived'\n",
      " 'Not Survived' 'Not Survived' 'Not Survived' 'Not Survived'\n",
      " 'Not Survived' 'Not Survived' 'Not Survived' 'Not Survived'\n",
      " 'Not Survived' 'Not Survived' 'Survived' 'Not Survived' 'Not Survived'\n",
      " 'Not Survived' 'Not Survived' 'Not Survived' 'Survived' 'Not Survived'\n",
      " 'Not Survived' 'Not Survived' 'Not Survived' 'Not Survived'\n",
      " 'Not Survived' 'Not Survived' 'Not Survived' 'Survived' 'Not Survived'\n",
      " 'Not Survived' 'Not Survived' 'Not Survived' 'Not Survived'\n",
      " 'Not Survived' 'Not Survived' 'Not Survived' 'Not Survived' 'Survived'\n",
      " 'Not Survived' 'Survived' 'Not Survived' 'Not Survived' 'Not Survived'\n",
      " 'Not Survived' 'Not Survived' 'Not Survived' 'Not Survived'\n",
      " 'Not Survived' 'Not Survived' 'Not Survived' 'Not Survived' 'Survived'\n",
      " 'Not Survived' 'Not Survived' 'Not Survived' 'Not Survived'\n",
      " 'Not Survived' 'Not Survived' 'Not Survived' 'Survived' 'Not Survived'\n",
      " 'Not Survived' 'Not Survived' 'Not Survived' 'Not Survived'\n",
      " 'Not Survived' 'Not Survived' 'Survived' 'Not Survived' 'Survived'\n",
      " 'Not Survived' 'Not Survived' 'Not Survived' 'Not Survived'\n",
      " 'Not Survived' 'Not Survived' 'Not Survived' 'Not Survived'\n",
      " 'Not Survived' 'Not Survived' 'Not Survived' 'Not Survived'\n",
      " 'Not Survived' 'Not Survived' 'Not Survived' 'Not Survived'\n",
      " 'Not Survived' 'Not Survived' 'Not Survived' 'Not Survived' 'Survived'\n",
      " 'Not Survived' 'Not Survived' 'Not Survived' 'Not Survived'\n",
      " 'Not Survived' 'Not Survived' 'Not Survived' 'Not Survived'\n",
      " 'Not Survived' 'Not Survived' 'Not Survived' 'Not Survived' 'Survived'\n",
      " 'Not Survived' 'Not Survived' 'Not Survived' 'Not Survived' 'Survived'\n",
      " 'Not Survived' 'Not Survived' 'Survived' 'Not Survived' 'Not Survived'\n",
      " 'Not Survived' 'Not Survived' 'Not Survived' 'Not Survived' 'Survived'\n",
      " 'Survived' 'Not Survived' 'Not Survived' 'Not Survived' 'Not Survived'\n",
      " 'Not Survived' 'Not Survived' 'Not Survived' 'Not Survived'\n",
      " 'Not Survived' 'Not Survived' 'Not Survived' 'Not Survived'\n",
      " 'Not Survived' 'Survived' 'Not Survived' 'Survived' 'Not Survived'\n",
      " 'Not Survived' 'Not Survived' 'Not Survived' 'Not Survived'\n",
      " 'Not Survived' 'Survived' 'Not Survived' 'Not Survived' 'Not Survived'\n",
      " 'Not Survived' 'Not Survived' 'Not Survived' 'Survived' 'Survived'\n",
      " 'Survived' 'Not Survived' 'Not Survived' 'Not Survived' 'Not Survived'\n",
      " 'Not Survived' 'Not Survived' 'Not Survived' 'Not Survived'\n",
      " 'Not Survived' 'Survived' 'Not Survived' 'Not Survived' 'Not Survived'\n",
      " 'Not Survived' 'Not Survived' 'Not Survived' 'Not Survived'\n",
      " 'Not Survived' 'Survived' 'Not Survived' 'Not Survived' 'Not Survived'\n",
      " 'Not Survived' 'Not Survived' 'Not Survived' 'Not Survived'\n",
      " 'Not Survived' 'Not Survived' 'Not Survived' 'Not Survived'\n",
      " 'Not Survived' 'Not Survived' 'Not Survived' 'Not Survived'\n",
      " 'Not Survived' 'Not Survived' 'Not Survived' 'Not Survived'\n",
      " 'Not Survived' 'Not Survived' 'Survived' 'Not Survived' 'Not Survived'\n",
      " 'Not Survived' 'Not Survived' 'Not Survived' 'Survived' 'Not Survived'\n",
      " 'Not Survived' 'Not Survived' 'Not Survived' 'Not Survived'\n",
      " 'Not Survived' 'Not Survived' 'Not Survived' 'Not Survived'\n",
      " 'Not Survived' 'Not Survived' 'Not Survived' 'Not Survived'\n",
      " 'Not Survived' 'Not Survived' 'Not Survived' 'Not Survived'\n",
      " 'Not Survived' 'Not Survived' 'Survived' 'Not Survived' 'Not Survived'\n",
      " 'Not Survived' 'Not Survived' 'Not Survived' 'Not Survived'\n",
      " 'Not Survived' 'Not Survived' 'Not Survived' 'Survived' 'Not Survived'\n",
      " 'Not Survived' 'Not Survived' 'Not Survived' 'Not Survived'\n",
      " 'Not Survived' 'Not Survived' 'Not Survived' 'Not Survived'\n",
      " 'Not Survived' 'Not Survived' 'Not Survived' 'Not Survived' 'Survived'\n",
      " 'Not Survived' 'Not Survived' 'Not Survived' 'Not Survived'\n",
      " 'Not Survived' 'Not Survived' 'Not Survived' 'Not Survived'\n",
      " 'Not Survived' 'Not Survived' 'Survived' 'Survived' 'Not Survived'\n",
      " 'Survived' 'Not Survived' 'Not Survived' 'Not Survived' 'Not Survived'\n",
      " 'Not Survived' 'Not Survived' 'Not Survived' 'Not Survived'\n",
      " 'Not Survived' 'Not Survived' 'Not Survived' 'Not Survived'\n",
      " 'Not Survived' 'Not Survived' 'Not Survived' 'Not Survived'\n",
      " 'Not Survived' 'Not Survived' 'Not Survived' 'Not Survived'\n",
      " 'Not Survived' 'Not Survived' 'Not Survived' 'Not Survived'\n",
      " 'Not Survived' 'Not Survived' 'Survived' 'Not Survived' 'Not Survived'\n",
      " 'Not Survived' 'Not Survived' 'Not Survived' 'Survived' 'Not Survived'\n",
      " 'Not Survived' 'Not Survived' 'Not Survived' 'Not Survived'\n",
      " 'Not Survived' 'Survived' 'Not Survived' 'Survived' 'Not Survived'\n",
      " 'Not Survived' 'Not Survived' 'Not Survived' 'Not Survived'\n",
      " 'Not Survived' 'Not Survived' 'Not Survived' 'Not Survived'\n",
      " 'Not Survived' 'Survived' 'Not Survived' 'Not Survived' 'Not Survived'\n",
      " 'Not Survived' 'Survived' 'Not Survived' 'Not Survived' 'Not Survived'\n",
      " 'Not Survived' 'Not Survived' 'Survived' 'Not Survived' 'Not Survived'\n",
      " 'Not Survived' 'Not Survived' 'Not Survived' 'Not Survived'\n",
      " 'Not Survived' 'Not Survived' 'Not Survived' 'Not Survived'\n",
      " 'Not Survived' 'Not Survived' 'Survived' 'Not Survived' 'Not Survived'\n",
      " 'Not Survived' 'Survived' 'Not Survived' 'Not Survived' 'Not Survived'\n",
      " 'Not Survived' 'Not Survived' 'Not Survived' 'Survived' 'Not Survived'\n",
      " 'Not Survived' 'Not Survived' 'Not Survived' 'Not Survived'\n",
      " 'Not Survived' 'Not Survived' 'Not Survived' 'Not Survived'\n",
      " 'Not Survived' 'Not Survived' 'Not Survived' 'Not Survived'\n",
      " 'Not Survived' 'Not Survived' 'Not Survived' 'Not Survived' 'Survived'\n",
      " 'Not Survived' 'Not Survived' 'Not Survived' 'Not Survived'\n",
      " 'Not Survived' 'Not Survived' 'Not Survived' 'Not Survived' 'Survived'\n",
      " 'Not Survived' 'Not Survived' 'Not Survived' 'Not Survived'\n",
      " 'Not Survived' 'Not Survived' 'Not Survived' 'Survived' 'Survived'\n",
      " 'Not Survived' 'Not Survived' 'Not Survived' 'Survived' 'Not Survived'\n",
      " 'Survived' 'Not Survived' 'Not Survived' 'Not Survived' 'Not Survived'\n",
      " 'Not Survived' 'Not Survived' 'Not Survived' 'Not Survived'\n",
      " 'Not Survived' 'Survived' 'Not Survived' 'Not Survived' 'Not Survived'\n",
      " 'Not Survived' 'Not Survived' 'Not Survived' 'Not Survived' 'Survived'\n",
      " 'Not Survived' 'Not Survived' 'Not Survived' 'Not Survived'\n",
      " 'Not Survived' 'Not Survived' 'Not Survived' 'Not Survived' 'Survived'\n",
      " 'Not Survived' 'Not Survived' 'Not Survived' 'Not Survived' 'Survived'\n",
      " 'Not Survived' 'Not Survived' 'Not Survived' 'Not Survived'\n",
      " 'Not Survived' 'Not Survived' 'Not Survived' 'Not Survived'\n",
      " 'Not Survived' 'Not Survived' 'Survived' 'Not Survived' 'Not Survived'\n",
      " 'Not Survived' 'Survived' 'Not Survived' 'Not Survived' 'Not Survived'\n",
      " 'Not Survived' 'Not Survived' 'Not Survived' 'Not Survived'\n",
      " 'Not Survived' 'Not Survived' 'Not Survived' 'Not Survived' 'Survived'\n",
      " 'Not Survived' 'Not Survived' 'Survived' 'Not Survived' 'Not Survived'\n",
      " 'Not Survived' 'Not Survived' 'Survived' 'Not Survived' 'Not Survived'\n",
      " 'Not Survived' 'Not Survived' 'Not Survived' 'Survived' 'Survived'\n",
      " 'Survived' 'Not Survived' 'Not Survived' 'Not Survived' 'Not Survived'\n",
      " 'Survived' 'Not Survived' 'Not Survived' 'Not Survived' 'Survived'\n",
      " 'Survived' 'Survived' 'Not Survived' 'Not Survived' 'Not Survived'\n",
      " 'Not Survived' 'Survived' 'Not Survived' 'Survived' 'Not Survived'\n",
      " 'Not Survived' 'Not Survived' 'Not Survived' 'Not Survived'\n",
      " 'Not Survived' 'Not Survived' 'Not Survived' 'Not Survived'\n",
      " 'Not Survived' 'Survived' 'Not Survived' 'Not Survived' 'Not Survived'\n",
      " 'Survived' 'Not Survived']\n"
     ]
    },
    {
     "name": "stderr",
     "output_type": "stream",
     "text": [
      "C:\\Users\\Ram\\anaconda3\\Lib\\site-packages\\sklearn\\base.py:432: UserWarning: X has feature names, but LogisticRegression was fitted without feature names\n",
      "  warnings.warn(\n"
     ]
    }
   ],
   "source": [
    "X_train_prediction = model.predict(X_train)\n",
    "print(X_train_prediction)"
   ]
  },
  {
   "cell_type": "code",
   "execution_count": 101,
   "id": "81b36e7d-24d6-4491-b8f4-0bbc9613e6cd",
   "metadata": {},
   "outputs": [
    {
     "name": "stdout",
     "output_type": "stream",
     "text": [
      "Accuracy score of training data: 0.6896067415730337\n"
     ]
    }
   ],
   "source": [
    "from sklearn.metrics import accuracy_score\n",
    "training_data_accuracy = accuracy_score(Y_train, X_train_prediction)\n",
    "print('Accuracy score of training data:', training_data_accuracy)"
   ]
  },
  {
   "cell_type": "code",
   "execution_count": 109,
   "id": "1efeeb70-0e94-4855-9ceb-a225bebc1f09",
   "metadata": {
    "scrolled": true
   },
   "outputs": [
    {
     "name": "stdout",
     "output_type": "stream",
     "text": [
      "['Not Survived' 'Not Survived' 'Not Survived' 'Not Survived'\n",
      " 'Not Survived' 'Not Survived' 'Not Survived' 'Not Survived' 'Survived'\n",
      " 'Not Survived' 'Not Survived' 'Survived' 'Not Survived' 'Not Survived'\n",
      " 'Not Survived' 'Not Survived' 'Not Survived' 'Not Survived'\n",
      " 'Not Survived' 'Not Survived' 'Survived' 'Not Survived' 'Not Survived'\n",
      " 'Not Survived' 'Not Survived' 'Not Survived' 'Not Survived'\n",
      " 'Not Survived' 'Not Survived' 'Not Survived' 'Not Survived'\n",
      " 'Not Survived' 'Not Survived' 'Not Survived' 'Not Survived'\n",
      " 'Not Survived' 'Survived' 'Survived' 'Not Survived' 'Not Survived'\n",
      " 'Not Survived' 'Not Survived' 'Not Survived' 'Not Survived'\n",
      " 'Not Survived' 'Survived' 'Survived' 'Not Survived' 'Not Survived'\n",
      " 'Not Survived' 'Not Survived' 'Not Survived' 'Not Survived'\n",
      " 'Not Survived' 'Not Survived' 'Not Survived' 'Not Survived'\n",
      " 'Not Survived' 'Not Survived' 'Not Survived' 'Not Survived' 'Survived'\n",
      " 'Not Survived' 'Not Survived' 'Not Survived' 'Not Survived'\n",
      " 'Not Survived' 'Not Survived' 'Survived' 'Not Survived' 'Not Survived'\n",
      " 'Not Survived' 'Not Survived' 'Not Survived' 'Not Survived' 'Survived'\n",
      " 'Not Survived' 'Survived' 'Not Survived' 'Not Survived' 'Survived'\n",
      " 'Not Survived' 'Not Survived' 'Not Survived' 'Survived' 'Not Survived'\n",
      " 'Not Survived' 'Not Survived' 'Not Survived' 'Not Survived'\n",
      " 'Not Survived' 'Not Survived' 'Not Survived' 'Not Survived'\n",
      " 'Not Survived' 'Not Survived' 'Not Survived' 'Not Survived'\n",
      " 'Not Survived' 'Not Survived' 'Survived' 'Not Survived' 'Not Survived'\n",
      " 'Not Survived' 'Not Survived' 'Not Survived' 'Survived' 'Not Survived'\n",
      " 'Not Survived' 'Not Survived' 'Not Survived' 'Not Survived'\n",
      " 'Not Survived' 'Not Survived' 'Survived' 'Not Survived' 'Not Survived'\n",
      " 'Survived' 'Survived' 'Not Survived' 'Not Survived' 'Not Survived'\n",
      " 'Not Survived' 'Not Survived' 'Not Survived' 'Not Survived' 'Survived'\n",
      " 'Not Survived' 'Not Survived' 'Not Survived' 'Not Survived'\n",
      " 'Not Survived' 'Not Survived' 'Not Survived' 'Not Survived'\n",
      " 'Not Survived' 'Not Survived' 'Not Survived' 'Not Survived'\n",
      " 'Not Survived' 'Not Survived' 'Survived' 'Not Survived' 'Not Survived'\n",
      " 'Not Survived' 'Not Survived' 'Not Survived' 'Not Survived'\n",
      " 'Not Survived' 'Not Survived' 'Not Survived' 'Not Survived'\n",
      " 'Not Survived' 'Not Survived' 'Not Survived' 'Not Survived'\n",
      " 'Not Survived' 'Not Survived' 'Not Survived' 'Not Survived'\n",
      " 'Not Survived' 'Not Survived' 'Not Survived' 'Not Survived'\n",
      " 'Not Survived' 'Survived' 'Not Survived' 'Not Survived' 'Survived'\n",
      " 'Not Survived' 'Not Survived' 'Not Survived' 'Not Survived'\n",
      " 'Not Survived' 'Not Survived' 'Not Survived' 'Not Survived'\n",
      " 'Not Survived' 'Not Survived']\n"
     ]
    },
    {
     "name": "stderr",
     "output_type": "stream",
     "text": [
      "C:\\Users\\Ram\\anaconda3\\Lib\\site-packages\\sklearn\\base.py:432: UserWarning: X has feature names, but LogisticRegression was fitted without feature names\n",
      "  warnings.warn(\n"
     ]
    }
   ],
   "source": [
    "# Assuming X_test contains the test features\n",
    "# One-hot encode the categorical variables in X_test\n",
    "X_test_encoded = pd.get_dummies(X_test, columns=['Sex', 'Embarked'])\n",
    "\n",
    "# Make sure the test data has the same columns as the training data after one-hot encoding\n",
    "# This ensures that both datasets have the same features\n",
    "X_test_encoded = X_test_encoded.reindex(columns=X_train.columns, fill_value=0)\n",
    "\n",
    "# Make predictions using the pre-trained model\n",
    "X_test_prediction = model.predict(X_test_encoded)\n",
    "\n",
    "# Print the predictions\n",
    "print(X_test_prediction)\n"
   ]
  },
  {
   "cell_type": "code",
   "execution_count": 110,
   "id": "9dc6470e-1d84-4b4f-81ed-79c5dac7b401",
   "metadata": {},
   "outputs": [
    {
     "name": "stdout",
     "output_type": "stream",
     "text": [
      "Accuracy score of test data: 0.6256983240223464\n"
     ]
    }
   ],
   "source": [
    "from sklearn.metrics import accuracy_score\n",
    "test_data_accuracy = accuracy_score(Y_test, X_test_prediction)\n",
    "print('Accuracy score of test data:', test_data_accuracy)"
   ]
  },
  {
   "cell_type": "code",
   "execution_count": 107,
   "id": "4df8f24f-1cec-4d3b-ba80-941c5f97bb27",
   "metadata": {},
   "outputs": [
    {
     "data": {
      "text/plain": [
       "['logistic_regression.pkl']"
      ]
     },
     "execution_count": 107,
     "metadata": {},
     "output_type": "execute_result"
    }
   ],
   "source": [
    "import joblib\n",
    "joblib.dump(model,'logistic_regression.pkl')"
   ]
  },
  {
   "cell_type": "code",
   "execution_count": null,
   "id": "4498df40-55a4-41bc-804b-95d806855e65",
   "metadata": {},
   "outputs": [],
   "source": [
    "!pip install pyngrok\n",
    "import subprocess\n",
    "import os\n",
    "from pyngrok import ngrok\n",
    "ngrok.set_auth_token(\"2eEb9TynFBtFyGtMJf7XZ4YzEY8_3KA68koevS5adXG6t7ZdC\")\n",
    "os.system(\"nohup python -m flask run--no-reload &\")\n",
    "proc = subprocess.Popen([\"ngrok\", \"http\", \"5000\"])\n",
    "public_url=ngrok.connect(addr=\"5000\",proto=\"http\")\n",
    "print(\"public url\",public_url)"
   ]
  },
  {
   "cell_type": "code",
   "execution_count": null,
   "id": "965a7604-554e-44ff-bc7c-f29f3f8cce0f",
   "metadata": {},
   "outputs": [
    {
     "name": "stdout",
     "output_type": "stream",
     "text": [
      "Public URL: NgrokTunnel: \"https://0f59-2409-40f0-1039-469-135-79a9-2784-e317.ngrok-free.app\" -> \"http://localhost:5000\"\n"
     ]
    },
    {
     "data": {
      "text/html": [
       "<h2>Open this link in your browser to access the application:</h2><p>NgrokTunnel: \"https://0f59-2409-40f0-1039-469-135-79a9-2784-e317.ngrok-free.app\" -> \"http://localhost:5000\"</p>"
      ],
      "text/plain": [
       "<IPython.core.display.HTML object>"
      ]
     },
     "metadata": {},
     "output_type": "display_data"
    },
    {
     "name": "stdout",
     "output_type": "stream",
     "text": [
      " * Serving Flask app '__main__'\n",
      " * Debug mode: on\n"
     ]
    },
    {
     "name": "stderr",
     "output_type": "stream",
     "text": [
      "WARNING: This is a development server. Do not use it in a production deployment. Use a production WSGI server instead.\n",
      " * Running on http://127.0.0.1:5000\n",
      "Press CTRL+C to quit\n"
     ]
    }
   ],
   "source": [
    "from flask import Flask, request, jsonify\n",
    "import joblib\n",
    "from pyngrok import ngrok\n",
    "from IPython.display import display, HTML\n",
    "\n",
    "# Load the trained model\n",
    "model = joblib.load('logistic_regression.pkl')\n",
    "\n",
    "app = Flask(__name__)\n",
    "\n",
    "@app.route('/')\n",
    "def home():\n",
    "    # HTML form to take inputs\n",
    "    html_form = \"\"\"\n",
    "    <!DOCTYPE html>\n",
    "<html lang=\"en\">\n",
    "<head>\n",
    "    <meta charset=\"UTF-8\">\n",
    "    <meta name=\"viewport\" content=\"width=device-width, initial-scale=1.0\">\n",
    "    <title>Titanic Survival Prediction</title>\n",
    "    <style>\n",
    "        body {\n",
    "            background-color: black;\n",
    "            color: white;\n",
    "            font-family: Arial, sans-serif;\n",
    "            text-align: center;\n",
    "            padding: 20px;\n",
    "        }\n",
    "        #predictionForm {\n",
    "            display: inline-block;\n",
    "            text-align: left;\n",
    "        }\n",
    "        img {\n",
    "            max-width: 100%;\n",
    "            height: auto;\n",
    "        }\n",
    "    </style>\n",
    "</head>\n",
    "<body>\n",
    "    <h2>Titanic Survival Prediction</h2>\n",
    "    <form id=\"predictionForm\" method=\"post\" action=\"/predict\">\n",
    "        <label for=\"pclass\">Pclass:</label>\n",
    "        <input type=\"text\" id=\"pclass\" name=\"pclass\"><br><br>\n",
    "\n",
    "        <label for=\"sex\">Sex (0 for male, 1 for female):</label>\n",
    "        <input type=\"text\" id=\"sex\" name=\"sex\"><br><br>\n",
    "\n",
    "        <label for=\"age\">Age:</label>\n",
    "        <input type=\"text\" id=\"age\" name=\"age\"><br><br>\n",
    "\n",
    "        <label for=\"sibsp\">SibSp:</label>\n",
    "        <input type=\"text\" id=\"sibsp\" name=\"sibsp\"><br><br>\n",
    "\n",
    "        <label for=\"parch\">Parch:</label>\n",
    "        <input type=\"text\" id=\"parch\" name=\"parch\"><br><br>\n",
    "\n",
    "        <label for=\"fare\">Fare:</label>\n",
    "        <input type=\"text\" id=\"fare\" name=\"fare\"><br><br>\n",
    "\n",
    "        <label for=\"embarked\">Embarked (0 for S, 1 for C, 2 for Q):</label>\n",
    "        <input type=\"text\" id=\"embarked\" name=\"embarked\"><br><br>\n",
    "\n",
    "        <button type=\"button\" onclick=\"predictSurvival()\">Predict</button>\n",
    "    </form>\n",
    "\n",
    "    <p id=\"predictionResult\"></p>\n",
    "\n",
    "    <img src=\"https://upload.wikimedia.org/wikipedia/commons/thumb/f/fd/RMS_Titanic_3.jpg/800px-RMS_Titanic_3.jpg\" alt=\"Titanic Image\">\n",
    "\n",
    "    <script>\n",
    "        function predictSurvival() {\n",
    "            var xhr = new XMLHttpRequest();\n",
    "            var url = \"/predict\";\n",
    "            var data = new FormData(document.getElementById(\"predictionForm\")); // Changed to FormData\n",
    "\n",
    "            xhr.open(\"POST\", url, true);\n",
    "            xhr.onreadystatechange = function () {\n",
    "                if (xhr.readyState === 4 && xhr.status === 200) {\n",
    "                    var response = JSON.parse(xhr.responseText);\n",
    "                    document.getElementById(\"predictionResult\").innerHTML = \"Survival Prediction: \" + response.prediction;\n",
    "                }\n",
    "            };\n",
    "            xhr.send(data);\n",
    "        }\n",
    "    </script>\n",
    "</body>\n",
    "</html>\n",
    "\n",
    "    \"\"\"\n",
    "    return html_form\n",
    "\n",
    "@app.route('/predict', methods=['POST'])\n",
    "def predict():\n",
    "    # Access form data\n",
    "    pclass = request.form['pclass']\n",
    "    sex = request.form['sex']\n",
    "    age = request.form['age']\n",
    "    sibsp = request.form['sibsp']\n",
    "    parch = request.form['parch']\n",
    "    fare = request.form['fare']\n",
    "    embarked = request.form['embarked']\n",
    "\n",
    "    # Convert data to appropriate types\n",
    "    pclass = int(pclass)\n",
    "    sex = int(sex)\n",
    "    age = float(age)\n",
    "    sibsp = int(sibsp)\n",
    "    parch = int(parch)\n",
    "    fare = float(fare)\n",
    "    embarked = int(embarked)\n",
    "\n",
    "    # Make prediction\n",
    "    features = [[pclass, sex, age, sibsp, parch, fare, embarked]]\n",
    "    prediction = model.predict(features)[0]\n",
    "\n",
    "    return jsonify({'prediction': int(prediction)})\n",
    "\n",
    "def run_flask_app():\n",
    "    # Run Flask app on port 5000\n",
    "    app.run(host='127.0.0.1', port=5000, debug=True, use_reloader=False)\n",
    "\n",
    "# Start ngrok tunnel\n",
    "public_url = ngrok.connect(addr=\"5000\", proto=\"http\")\n",
    "print(\"Public URL:\", public_url)\n",
    "\n",
    "# Display ngrok tunnel URL\n",
    "display(HTML(f\"<h2>Open this link in your browser to access the application:</h2><p>{public_url}</p>\"))\n",
    "\n",
    "try:\n",
    "    # Keep the Flask app running\n",
    "    run_flask_app()\n",
    "except KeyboardInterrupt:\n",
    "    # Shutdown ngrok and Flask app\n",
    "    ngrok.kill()\n"
   ]
  },
  {
   "cell_type": "code",
   "execution_count": null,
   "id": "e7e8ae36-c649-4fdd-8289-64a73459edc7",
   "metadata": {},
   "outputs": [],
   "source": []
  }
 ],
 "metadata": {
  "kernelspec": {
   "display_name": "Python 3 (ipykernel)",
   "language": "python",
   "name": "python3"
  },
  "language_info": {
   "codemirror_mode": {
    "name": "ipython",
    "version": 3
   },
   "file_extension": ".py",
   "mimetype": "text/x-python",
   "name": "python",
   "nbconvert_exporter": "python",
   "pygments_lexer": "ipython3",
   "version": "3.11.7"
  }
 },
 "nbformat": 4,
 "nbformat_minor": 5
}
